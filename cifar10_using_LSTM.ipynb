{
  "nbformat": 4,
  "nbformat_minor": 0,
  "metadata": {
    "kernelspec": {
      "display_name": "Python 3",
      "language": "python",
      "name": "python3"
    },
    "language_info": {
      "codemirror_mode": {
        "name": "ipython",
        "version": 3
      },
      "file_extension": ".py",
      "mimetype": "text/x-python",
      "name": "python",
      "nbconvert_exporter": "python",
      "pygments_lexer": "ipython3",
      "version": "3.7.6"
    },
    "colab": {
      "name": "cifar10 using LSTM.ipynb",
      "provenance": [],
      "include_colab_link": true
    },
    "accelerator": "GPU"
  },
  "cells": [
    {
      "cell_type": "markdown",
      "metadata": {
        "id": "view-in-github",
        "colab_type": "text"
      },
      "source": [
        "<a href=\"https://colab.research.google.com/github/MoradSiddique/Deep_Learning/blob/main/cifar10_using_LSTM.ipynb\" target=\"_parent\"><img src=\"https://colab.research.google.com/assets/colab-badge.svg\" alt=\"Open In Colab\"/></a>"
      ]
    },
    {
      "cell_type": "code",
      "metadata": {
        "id": "GrDLqFzf4LCt"
      },
      "source": [
        "import os\n",
        "import tensorflow as tf\n",
        "import keras\n",
        "from tensorflow.keras import layers\n",
        "from tensorflow.keras import Model\n",
        "from os import getcwd"
      ],
      "execution_count": 2,
      "outputs": []
    },
    {
      "cell_type": "code",
      "metadata": {
        "id": "ptFLMEjW4LCz"
      },
      "source": [
        "# Selecting the dataset as CIFAR10\n",
        "cifar10 = tf.keras.datasets.cifar10"
      ],
      "execution_count": 3,
      "outputs": []
    },
    {
      "cell_type": "code",
      "metadata": {
        "colab": {
          "base_uri": "https://localhost:8080/"
        },
        "id": "sBsYZAnt4LC0",
        "outputId": "6cae8ff3-0c11-4b4c-e6c3-1b03c214518e"
      },
      "source": [
        "#Train and Test Images Partitioning along with their labels\n",
        "(training_images, training_labels), (test_images, test_labels) = cifar10.load_data()"
      ],
      "execution_count": 4,
      "outputs": [
        {
          "output_type": "stream",
          "text": [
            "Downloading data from https://www.cs.toronto.edu/~kriz/cifar-10-python.tar.gz\n",
            "170500096/170498071 [==============================] - 2s 0us/step\n"
          ],
          "name": "stdout"
        }
      ]
    },
    {
      "cell_type": "code",
      "metadata": {
        "colab": {
          "base_uri": "https://localhost:8080/"
        },
        "id": "nepbxF_X4LC1",
        "outputId": "53949731-1491-467c-ac62-aadfa194faca"
      },
      "source": [
        "#Finding total number of images in training and test set\n",
        "print(len(training_images))\n",
        "print(len(test_images))"
      ],
      "execution_count": 5,
      "outputs": [
        {
          "output_type": "stream",
          "text": [
            "50000\n",
            "10000\n"
          ],
          "name": "stdout"
        }
      ]
    },
    {
      "cell_type": "code",
      "metadata": {
        "colab": {
          "base_uri": "https://localhost:8080/"
        },
        "id": "l0UgIZfO4LC2",
        "outputId": "91622060-be08-41e0-f7ef-0d28ac54a440"
      },
      "source": [
        "\n",
        "#Shape of the image before reshaping\n",
        "training_images.shape"
      ],
      "execution_count": 6,
      "outputs": [
        {
          "output_type": "execute_result",
          "data": {
            "text/plain": [
              "(50000, 32, 32, 3)"
            ]
          },
          "metadata": {
            "tags": []
          },
          "execution_count": 6
        }
      ]
    },
    {
      "cell_type": "code",
      "metadata": {
        "id": "5HkmFB3w4LC4"
      },
      "source": [
        "#32*32=1024\n",
        "training_images = training_images.reshape(50000, 1024, 3)"
      ],
      "execution_count": 7,
      "outputs": []
    },
    {
      "cell_type": "code",
      "metadata": {
        "colab": {
          "base_uri": "https://localhost:8080/"
        },
        "id": "gQ_IXXiT4LC4",
        "outputId": "ea4d9ddd-6022-4b2d-aaa9-01211a4f8561"
      },
      "source": [
        "#Shape of the image after reshaping\n",
        "print(training_images[1].shape)\n",
        "print(training_labels[1])"
      ],
      "execution_count": 8,
      "outputs": [
        {
          "output_type": "stream",
          "text": [
            "(1024, 3)\n",
            "[9]\n"
          ],
          "name": "stdout"
        }
      ]
    },
    {
      "cell_type": "code",
      "metadata": {
        "id": "j3s1gd4-4LC6"
      },
      "source": [
        "#Reshaping and Normalizing training and test images\n",
        "training_images = training_images.reshape(50000, 1024, 3)\n",
        "training_images = training_images/255.0\n",
        "test_images = test_images.reshape(10000, 1024, 3)\n",
        "test_images = test_images/255.0"
      ],
      "execution_count": 9,
      "outputs": []
    },
    {
      "cell_type": "code",
      "metadata": {
        "id": "vZS7YduE4LC7"
      },
      "source": [
        "model = tf.keras.models.Sequential([\n",
        "        tf.keras.layers.Bidirectional(tf.keras.layers.LSTM(32, input_shape=(1024, 3), return_sequences=True)),\n",
        "        tf.keras.layers.Bidirectional(tf.keras.layers.LSTM(32)),\n",
        "        tf.keras.layers.Dropout(0.25),\n",
        "        tf.keras.layers.Flatten(),\n",
        "        tf.keras.layers.Dense(128, activation='relu'),\n",
        "        tf.keras.layers.Dropout(0.25),\n",
        "        tf.keras.layers.Dense(64, activation='relu'),\n",
        "        tf.keras.layers.Dense(10, activation='softmax')\n",
        "        ])"
      ],
      "execution_count": 10,
      "outputs": []
    },
    {
      "cell_type": "code",
      "metadata": {
        "colab": {
          "base_uri": "https://localhost:8080/"
        },
        "id": "WRck4b1w4LC8",
        "outputId": "9e10e916-4f8b-4e6b-ae15-43b8cafe0625"
      },
      "source": [
        "model.compile(optimizer='adam',\n",
        "              loss = 'sparse_categorical_crossentropy',\n",
        "              metrics=[\"acc\"])\n",
        "model.fit(training_images, training_labels, batch_size = 100, epochs=50)"
      ],
      "execution_count": 11,
      "outputs": [
        {
          "output_type": "stream",
          "text": [
            "Epoch 1/50\n",
            "500/500 [==============================] - 96s 121ms/step - loss: 2.1231 - acc: 0.2039\n",
            "Epoch 2/50\n",
            "500/500 [==============================] - 60s 120ms/step - loss: 1.9906 - acc: 0.2694\n",
            "Epoch 3/50\n",
            "500/500 [==============================] - 60s 121ms/step - loss: 1.9699 - acc: 0.2784\n",
            "Epoch 4/50\n",
            "500/500 [==============================] - 60s 120ms/step - loss: 1.9545 - acc: 0.2855\n",
            "Epoch 5/50\n",
            "500/500 [==============================] - 60s 121ms/step - loss: 1.9402 - acc: 0.2958\n",
            "Epoch 6/50\n",
            "500/500 [==============================] - 60s 120ms/step - loss: 1.9361 - acc: 0.2991\n",
            "Epoch 7/50\n",
            "500/500 [==============================] - 60s 121ms/step - loss: 1.9349 - acc: 0.2947\n",
            "Epoch 8/50\n",
            "500/500 [==============================] - 61s 121ms/step - loss: 1.9278 - acc: 0.2988\n",
            "Epoch 9/50\n",
            "500/500 [==============================] - 61s 121ms/step - loss: 1.9029 - acc: 0.3091\n",
            "Epoch 10/50\n",
            "500/500 [==============================] - 61s 121ms/step - loss: 1.9035 - acc: 0.3107\n",
            "Epoch 11/50\n",
            "500/500 [==============================] - 60s 121ms/step - loss: 1.9025 - acc: 0.3096\n",
            "Epoch 12/50\n",
            "500/500 [==============================] - 61s 121ms/step - loss: 1.8698 - acc: 0.3259\n",
            "Epoch 13/50\n",
            "500/500 [==============================] - 61s 122ms/step - loss: 1.8600 - acc: 0.3266\n",
            "Epoch 14/50\n",
            "500/500 [==============================] - 61s 121ms/step - loss: 1.8520 - acc: 0.3275\n",
            "Epoch 15/50\n",
            "500/500 [==============================] - 61s 122ms/step - loss: 1.9023 - acc: 0.3106\n",
            "Epoch 16/50\n",
            "500/500 [==============================] - 61s 122ms/step - loss: 1.9928 - acc: 0.2682\n",
            "Epoch 17/50\n",
            "500/500 [==============================] - 61s 121ms/step - loss: 1.9302 - acc: 0.2983\n",
            "Epoch 18/50\n",
            "500/500 [==============================] - 61s 121ms/step - loss: 1.8974 - acc: 0.3100\n",
            "Epoch 19/50\n",
            "500/500 [==============================] - 61s 122ms/step - loss: 1.8943 - acc: 0.3181\n",
            "Epoch 20/50\n",
            "500/500 [==============================] - 62s 123ms/step - loss: 1.8553 - acc: 0.3299\n",
            "Epoch 21/50\n",
            "500/500 [==============================] - 62s 123ms/step - loss: 1.8317 - acc: 0.3401\n",
            "Epoch 22/50\n",
            "500/500 [==============================] - 61s 123ms/step - loss: 1.8119 - acc: 0.3463\n",
            "Epoch 23/50\n",
            "500/500 [==============================] - 61s 122ms/step - loss: 1.7758 - acc: 0.3599\n",
            "Epoch 24/50\n",
            "500/500 [==============================] - 61s 122ms/step - loss: 1.7356 - acc: 0.3741\n",
            "Epoch 25/50\n",
            "500/500 [==============================] - 61s 122ms/step - loss: 1.6913 - acc: 0.3871\n",
            "Epoch 26/50\n",
            "500/500 [==============================] - 61s 122ms/step - loss: 1.6725 - acc: 0.3956\n",
            "Epoch 27/50\n",
            "500/500 [==============================] - 61s 122ms/step - loss: 1.6549 - acc: 0.3999\n",
            "Epoch 28/50\n",
            "500/500 [==============================] - 61s 121ms/step - loss: 1.6263 - acc: 0.4099\n",
            "Epoch 29/50\n",
            "500/500 [==============================] - 61s 122ms/step - loss: 1.5997 - acc: 0.4162\n",
            "Epoch 30/50\n",
            "500/500 [==============================] - 61s 121ms/step - loss: 1.5965 - acc: 0.4132\n",
            "Epoch 31/50\n",
            "500/500 [==============================] - 61s 121ms/step - loss: 1.6006 - acc: 0.4138\n",
            "Epoch 32/50\n",
            "500/500 [==============================] - 61s 121ms/step - loss: 1.5838 - acc: 0.4203\n",
            "Epoch 33/50\n",
            "500/500 [==============================] - 61s 121ms/step - loss: 1.5415 - acc: 0.4329\n",
            "Epoch 34/50\n",
            "500/500 [==============================] - 60s 121ms/step - loss: 1.5192 - acc: 0.4402\n",
            "Epoch 35/50\n",
            "500/500 [==============================] - 61s 121ms/step - loss: 1.5116 - acc: 0.4440\n",
            "Epoch 36/50\n",
            "500/500 [==============================] - 61s 121ms/step - loss: 1.4886 - acc: 0.4502\n",
            "Epoch 37/50\n",
            "500/500 [==============================] - 61s 122ms/step - loss: 1.4859 - acc: 0.4506\n",
            "Epoch 38/50\n",
            "500/500 [==============================] - 61s 121ms/step - loss: 1.4681 - acc: 0.4613\n",
            "Epoch 39/50\n",
            "500/500 [==============================] - 61s 122ms/step - loss: 1.4563 - acc: 0.4670\n",
            "Epoch 40/50\n",
            "500/500 [==============================] - 61s 121ms/step - loss: 1.4435 - acc: 0.4691\n",
            "Epoch 41/50\n",
            "500/500 [==============================] - 61s 121ms/step - loss: 1.4344 - acc: 0.4706\n",
            "Epoch 42/50\n",
            "500/500 [==============================] - 60s 120ms/step - loss: 1.4262 - acc: 0.4728\n",
            "Epoch 43/50\n",
            "500/500 [==============================] - 60s 121ms/step - loss: 1.4167 - acc: 0.4797\n",
            "Epoch 44/50\n",
            "500/500 [==============================] - 61s 121ms/step - loss: 1.4017 - acc: 0.4883\n",
            "Epoch 45/50\n",
            "500/500 [==============================] - 61s 121ms/step - loss: 1.3821 - acc: 0.4932\n",
            "Epoch 46/50\n",
            "500/500 [==============================] - 61s 122ms/step - loss: 1.3747 - acc: 0.4981\n",
            "Epoch 47/50\n",
            "500/500 [==============================] - 61s 122ms/step - loss: 1.3602 - acc: 0.4998\n",
            "Epoch 48/50\n",
            "500/500 [==============================] - 61s 122ms/step - loss: 1.3407 - acc: 0.5090\n",
            "Epoch 49/50\n",
            "500/500 [==============================] - 61s 122ms/step - loss: 1.3281 - acc: 0.5125\n",
            "Epoch 50/50\n",
            "500/500 [==============================] - 61s 121ms/step - loss: 1.3218 - acc: 0.5143\n"
          ],
          "name": "stdout"
        },
        {
          "output_type": "execute_result",
          "data": {
            "text/plain": [
              "<tensorflow.python.keras.callbacks.History at 0x7f5660189fd0>"
            ]
          },
          "metadata": {
            "tags": []
          },
          "execution_count": 11
        }
      ]
    },
    {
      "cell_type": "code",
      "metadata": {
        "id": "G9Hg3WAD960k"
      },
      "source": [
        ""
      ],
      "execution_count": 11,
      "outputs": []
    }
  ]
}